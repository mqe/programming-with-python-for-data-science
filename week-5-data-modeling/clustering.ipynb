{
 "cells": [
  {
   "cell_type": "markdown",
   "metadata": {},
   "source": [
    "# Clustering"
   ]
  },
  {
   "cell_type": "markdown",
   "metadata": {},
   "source": [
    "Clustering is a natural action we do even as children, by arranging similar shaped blocks and colors. K-Means clustering is best suited when you have a good idea of the number of distinct clusters your unlabeled dataset should be segmented into. Generally, the output of K-Means is used in two ways. To separate your unlabeled data into K groups, which is the clear use case, or to find and use the resulting centroids."
   ]
  },
  {
   "cell_type": "markdown",
   "metadata": {},
   "source": [
    "## Separate Your Data\n",
    "\n",
    "Astronomers use clustering to group different star types, classes of planets, and galaxies. Biologists use it to group every living thing by species, genus, and kingdom. In business, clustering is used to segment likely and unlikely prospects, for location assignment, factor endowment, and the assignment and deployment of remote services."
   ]
  },
  {
   "cell_type": "markdown",
   "metadata": {},
   "source": [
    "## Centroid Usage\n",
    "\n",
    "Besides divvying up samples, clustering can also provide a layer of abstraction, by directing attention to the cluster and its attributes and not each samples. In the climate change case study from the previous module, you saw how climate divisions were used as a cluster abstraction over individual ground stations for various mentioned reasons. Another example of centroid usage would be a company looking for ideal locations to open a limited number of branches, based on the location of their customers. \n",
    "\n",
    "You can use the centroid to 'compress' your data. By referring to the centroid rather than the data sample, the number of unique values is reduced, which optimizes the execution speed of other algorithms."
   ]
  },
  {
   "cell_type": "markdown",
   "metadata": {},
   "source": [
    "## SciKit-Learn and K-Means"
   ]
  },
  {
   "cell_type": "code",
   "execution_count": 7,
   "metadata": {
    "collapsed": false
   },
   "outputs": [
    {
     "name": "stdout",
     "output_type": "stream",
     "text": [
      "[4 2 0 1 3 4 1 3 1 0 0 3 0 4 0 4 0 3 1 0 2 0 3 0 1 2 2 0 4 4 0 2 0 0 1 3 3\n",
      " 4 0 3 4 0 2 0 1 2 4 3 3 4 1 0 3 4 2 4 4 4 0 1 0 2 1 3 4 2 2 4 3 0 1 2 2 3\n",
      " 2 2 2 0 4 1 3 0 3 1 2 1 4 0 4 4 0 2 3 0 1 4 4 1 1 4]\n",
      "[[ 38.          62.96        15.12        67.        ]\n",
      " [ 54.          18.47058824  23.88235294  22.35294118]\n",
      " [ 53.83333333  53.44444444  73.55555556  76.66666667]\n",
      " [ 77.82352941  64.          55.29411765  26.94117647]\n",
      " [ 13.91304348  32.43478261  68.13043478  47.95652174]]\n"
     ]
    }
   ],
   "source": [
    "# import and create random int dataframe\n",
    "import pandas as pd\n",
    "import numpy as np\n",
    "df = pd.DataFrame(np.random.randint(0,100,size=(100, 4)), columns=list('ABCD'))\n",
    "\n",
    "# import and compute labels, centroids\n",
    "from sklearn.cluster import KMeans\n",
    "kmeans = KMeans(n_clusters=5)\n",
    "kmeans.fit(df)\n",
    "KMeans(copy_x=True, init='k-means++', max_iter=300, n_clusters=5, n_init=10,\n",
    "       n_jobs=1, precompute_distances='auto', random_state=None, tol=0.0001,\n",
    "       verbose=0)\n",
    "\n",
    "labels = kmeans.predict(df)\n",
    "centroids = kmeans.cluster_centers_\n",
    "\n",
    "print (labels)\n",
    "print (centroids)"
   ]
  },
  {
   "cell_type": "code",
   "execution_count": null,
   "metadata": {
    "collapsed": true
   },
   "outputs": [],
   "source": []
  }
 ],
 "metadata": {
  "kernelspec": {
   "display_name": "Python [Root]",
   "language": "python",
   "name": "Python [Root]"
  },
  "language_info": {
   "codemirror_mode": {
    "name": "ipython",
    "version": 2
   },
   "file_extension": ".py",
   "mimetype": "text/x-python",
   "name": "python",
   "nbconvert_exporter": "python",
   "pygments_lexer": "ipython2",
   "version": "2.7.12"
  }
 },
 "nbformat": 4,
 "nbformat_minor": 0
}
