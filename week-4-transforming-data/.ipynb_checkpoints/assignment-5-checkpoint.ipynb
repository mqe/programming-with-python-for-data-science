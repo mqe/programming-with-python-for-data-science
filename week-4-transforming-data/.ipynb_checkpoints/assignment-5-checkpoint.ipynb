{
 "cells": [
  {
   "cell_type": "markdown",
   "metadata": {},
   "source": [
    "# Assignment 5"
   ]
  },
  {
   "cell_type": "code",
   "execution_count": 1,
   "metadata": {
    "collapsed": false
   },
   "outputs": [
    {
     "name": "stderr",
     "output_type": "stream",
     "text": [
      "/Users/michaelsjoberg/anaconda/lib/python2.7/site-packages/matplotlib/font_manager.py:273: UserWarning: Matplotlib is building the font cache using fc-list. This may take a moment.\n",
      "  warnings.warn('Matplotlib is building the font cache using fc-list. This may take a moment.')\n"
     ]
    }
   ],
   "source": [
    "import pandas as pd\n",
    "\n",
    "from scipy import misc\n",
    "from mpl_toolkits.mplot3d import Axes3D\n",
    "\n",
    "# import matplotlib\n",
    "%matplotlib inline\n",
    "import matplotlib\n",
    "\n",
    "import matplotlib.pyplot as plt\n",
    "\n",
    "# Look pretty...\n",
    "matplotlib.style.use('ggplot')\n",
    "\n",
    "#\n",
    "# TODO: Once you're done answering the first three questions,\n",
    "# right before you converted your list to a dataframe, add in\n",
    "# additional code which also appends to your list the images\n",
    "# in the Module4/Datasets/ALOI/32_i directory. Re-run your\n",
    "# assignment and answer the final question below.\n",
    "#\n",
    "# .. your code here .. \n",
    "\n"
   ]
  },
  {
   "cell_type": "code",
   "execution_count": 2,
   "metadata": {
    "collapsed": true
   },
   "outputs": [],
   "source": [
    "#\n",
    "# TODO: Start by creating a regular old, plain, \"vanilla\"\n",
    "# python list. You can call it 'samples'.\n",
    "#\n",
    "\n",
    "samples = []"
   ]
  },
  {
   "cell_type": "code",
   "execution_count": 3,
   "metadata": {
    "collapsed": false
   },
   "outputs": [],
   "source": [
    "#\n",
    "# TODO: Write a for-loop that iterates over the images in the\n",
    "# Module4/Datasets/ALOI/32/ folder, appending each of them to\n",
    "# your list. Each .PNG image should first be loaded into a\n",
    "# temporary NDArray, just as shown in the Feature\n",
    "# Representation reading.\n",
    "#\n",
    "# Optional: Resample the image down by a factor of two if you\n",
    "# have a slower computer. You can also convert the image from\n",
    "# 0-255  to  0.0-1.0  if you'd like, but that will have no\n",
    "# effect on the algorithm's results.\n",
    "#\n",
    "\n",
    "# import\n",
    "import os\n",
    "import numpy as np\n",
    "\n",
    "# loop\n",
    "for img in os.listdir(\"isomap/Datasets/ALOI/32/\"):\n",
    "    if img.endswith(\".png\"):\n",
    "        tmp = misc.imread(\"isomap/Datasets/ALOI/32/\" + img)\n",
    "        tmp[::2, ::2]\n",
    "        X = (tmp / 255.0).reshape((-1,3))\n",
    "        \n",
    "        samples.append(X)"
   ]
  },
  {
   "cell_type": "code",
   "execution_count": 8,
   "metadata": {
    "collapsed": false
   },
   "outputs": [],
   "source": [
    "#\n",
    "# TODO: Convert the list to a dataframe\n",
    "#\n",
    "\n",
    "df = pd.DataFrame(samples[0])"
   ]
  },
  {
   "cell_type": "code",
   "execution_count": null,
   "metadata": {
    "collapsed": false
   },
   "outputs": [],
   "source": [
    "#\n",
    "# TODO: Implement Isomap here. Reduce the dataframe df down\n",
    "# to three components, using K=6 for your neighborhood size\n",
    "#\n",
    "\n",
    "# import sklearn manifold\n",
    "from sklearn import manifold\n",
    "\n",
    "# train on input\n",
    "iso = manifold.Isomap(n_neighbors=6, n_components=3)\n",
    "iso.fit(df)\n",
    "\n",
    "# transform input\n",
    "M = iso.transform(df)"
   ]
  },
  {
   "cell_type": "code",
   "execution_count": null,
   "metadata": {
    "collapsed": true
   },
   "outputs": [],
   "source": [
    "#\n",
    "# TODO: Create a 2D Scatter plot to graph your manifold. You\n",
    "# can use either 'o' or '.' as your marker. Graph the first two\n",
    "# isomap components\n",
    "#\n",
    "\n",
    "fig = plt.figure()\n",
    "ax = fig.add_subplot(111)\n",
    "ax.set_title('2D')\n",
    "ax.scatter(M[:,0], M[:,1], c='blue', marker='.', alpha=0.75)"
   ]
  },
  {
   "cell_type": "code",
   "execution_count": null,
   "metadata": {
    "collapsed": true
   },
   "outputs": [],
   "source": []
  }
 ],
 "metadata": {
  "kernelspec": {
   "display_name": "Python [Root]",
   "language": "python",
   "name": "Python [Root]"
  },
  "language_info": {
   "codemirror_mode": {
    "name": "ipython",
    "version": 2
   },
   "file_extension": ".py",
   "mimetype": "text/x-python",
   "name": "python",
   "nbconvert_exporter": "python",
   "pygments_lexer": "ipython2",
   "version": "2.7.12"
  }
 },
 "nbformat": 4,
 "nbformat_minor": 0
}
